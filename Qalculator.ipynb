{
  "nbformat": 4,
  "nbformat_minor": 0,
  "metadata": {
    "colab": {
      "name": "Qalculator",
      "provenance": [],
      "collapsed_sections": [
        "rPuhQ65-DNI4",
        "IuY0vhSCfcQ4",
        "luMKeEK1DWvB",
        "xnW5v01HDbCI",
        "SlwOIWhKDbR3",
        "KRbPmpyKDb_G",
        "SwTooHa8cJJQ",
        "JpdSPJvNfK-F",
        "D-zZacZ6fOLE",
        "_6-u69A-fQKo",
        "dHvCQBE-fS-1",
        "WsXyDJtUmMU5",
        "I6K4vnY9_SNt",
        "f57YfHCJS-rO",
        "VXaSRbPHTHGF",
        "a3CpP3fTTKuj",
        "cWJIki4RTNkq",
        "NCGbdIQRfAOP",
        "_XNSkCTi_C8I",
        "gARkq-PlnBWM",
        "PWYBpDaERpaG",
        "sFBuzHaSWYG2",
        "uy5eCv9iWaGQ",
        "oFeqvnK3Xmh_",
        "1AMxpMJHYrJt",
        "pTsfal9iWOaM",
        "nr9-XkTmmAJH"
      ],
      "authorship_tag": "ABX9TyMul9bXWsO9jjpFkkMY5P+L",
      "include_colab_link": true
    },
    "kernelspec": {
      "name": "python3",
      "display_name": "Python 3"
    },
    "language_info": {
      "name": "python"
    }
  },
  "cells": [
    {
      "cell_type": "markdown",
      "metadata": {
        "id": "view-in-github",
        "colab_type": "text"
      },
      "source": [
        "<a href=\"https://colab.research.google.com/github/nirmal129/Qalculator/blob/master/Qalculator.ipynb\" target=\"_parent\"><img src=\"https://colab.research.google.com/assets/colab-badge.svg\" alt=\"Open In Colab\"/></a>"
      ]
    },
    {
      "cell_type": "markdown",
      "metadata": {
        "id": "rPuhQ65-DNI4"
      },
      "source": [
        "# Installations, imports, and helper functions\n",
        "\n"
      ]
    },
    {
      "cell_type": "code",
      "metadata": {
        "id": "YHJTBEsnrdbe"
      },
      "source": [
        "%pip install qiskit --quiet\n",
        "%pip install pylatexenc --quiet"
      ],
      "execution_count": null,
      "outputs": []
    },
    {
      "cell_type": "code",
      "metadata": {
        "id": "-iCvswRIvjB6"
      },
      "source": [
        "from qiskit import *\n",
        "import numpy as np\n",
        "from qiskit.visualization import *\n",
        "from qiskit.quantum_info import *\n",
        "from matplotlib import pyplot as plt"
      ],
      "execution_count": null,
      "outputs": []
    },
    {
      "cell_type": "code",
      "metadata": {
        "id": "NqvYFJlHtTj0"
      },
      "source": [
        "# CCU1 or CCRz\n",
        "\n",
        "def ccu1(qc, theta, a, b, c):\n",
        "  qc.cu1(theta / 2, b, c)\n",
        "  qc.cx(a, b)\n",
        "  qc.cu1(-theta / 2, b, c)\n",
        "  qc.cx(a, b)\n",
        "  qc.cu1(theta / 2, a, c)"
      ],
      "execution_count": null,
      "outputs": []
    },
    {
      "cell_type": "code",
      "metadata": {
        "id": "jdtx3Z-QrhBt"
      },
      "source": [
        "# QFT\n",
        "\n",
        "def qft(qc, q):\n",
        "  n = len(q)\n",
        "  for j in range(n - 1, -1, -1):\n",
        "    qc.h(q[j])\n",
        "    for k in range(j - 1, -1, -1):\n",
        "      qc.cu1(2 * np.pi * 2 ** (-(j - k + 1)), q[k], q[j])\n",
        "  for l in range(int(np.floor(n / 2))):\n",
        "    qc.swap(q[l], q[n-1-l])"
      ],
      "execution_count": null,
      "outputs": []
    },
    {
      "cell_type": "code",
      "metadata": {
        "id": "ge6CobTjrg-6"
      },
      "source": [
        "# IQFT\n",
        "\n",
        "def iqft(qc, q):\n",
        "  n = len(q)\n",
        "  for l in range(int(np.floor(n / 2))):\n",
        "    qc.swap(q[l], q[n - 1 - l])\n",
        "  for j in range(n):\n",
        "    for k in range(j):\n",
        "      qc.cu1(-2 * np.pi * 2 ** (-(j - k + 1)), q[k], q[j])\n",
        "    qc.h(q[j])"
      ],
      "execution_count": null,
      "outputs": []
    },
    {
      "cell_type": "code",
      "metadata": {
        "id": "fpU6LdaYrg8L"
      },
      "source": [
        "# Controlled QFT\n",
        "\n",
        "def cqft(qc, c, q):\n",
        "  n = len(q)\n",
        "  for j in range(n - 1, -1, -1):\n",
        "    qc.ch(c, q[j])\n",
        "    for k in range(j - 1, -1, -1):\n",
        "      ccu1(qc, 2 * np.pi * 2 ** (-(j - k + 1)), c, q[k], q[j])\n",
        "  for l in range(int(np.floor(n/2))):\n",
        "    qc.cswap(c, q[l], q[n - 1 - l])"
      ],
      "execution_count": null,
      "outputs": []
    },
    {
      "cell_type": "code",
      "metadata": {
        "id": "m9yQHP7lrg5a"
      },
      "source": [
        "# Controlled IQFT\n",
        "\n",
        "def ciqft(qc, c, q):\n",
        "  n = len(q)\n",
        "  for l in range(int(np.floor(n / 2))):\n",
        "    qc.cswap(c, q[l], q[n - 1 - l])\n",
        "  for j in range(n):\n",
        "    for k in range(j):\n",
        "      ccu1(qc, -2 * np.pi * 2 ** (-(j - k + 1)), c, q[k], q[j])\n",
        "    qc.ch(c, q[j])"
      ],
      "execution_count": null,
      "outputs": []
    },
    {
      "cell_type": "code",
      "metadata": {
        "id": "mpJTEz_prg2o"
      },
      "source": [
        "# Left shift\n",
        "\n",
        "def lshift(qc, q):\n",
        "  n = len(q)\n",
        "  for i in range(n, 1, -1):\n",
        "    qc.swap(q[i - 1],q[i - 2])"
      ],
      "execution_count": null,
      "outputs": []
    },
    {
      "cell_type": "code",
      "metadata": {
        "id": "00W5-o0p32hy"
      },
      "source": [
        "# Decimal to binary string\n",
        "\n",
        "def bin(n):\n",
        "  ans = \"\"\n",
        "  while n > 0:\n",
        "    ans = str(n % 2) + ans\n",
        "    n = n // 2\n",
        "  return ans"
      ],
      "execution_count": null,
      "outputs": []
    },
    {
      "cell_type": "code",
      "metadata": {
        "id": "iYpLyazr8ULd"
      },
      "source": [
        "# Binary string to decimal\n",
        "\n",
        "def dec(bs):\n",
        "  ans = 0\n",
        "  for i in range(len(bs)):\n",
        "    ans = 2 * ans + int(bs[i])\n",
        "  return ans"
      ],
      "execution_count": null,
      "outputs": []
    },
    {
      "cell_type": "code",
      "metadata": {
        "id": "9LuCtyn54M9U"
      },
      "source": [
        "# Equalizes two binary strings in length by zero padding on left\n",
        "\n",
        "def equalizer(bin_a, bin_b):\n",
        "  m = len(bin_a)\n",
        "  n = len(bin_b)\n",
        "  if m > n:\n",
        "    for i in range(m - n):\n",
        "      bin_b = \"0\" + bin_b\n",
        "  else:\n",
        "    for i in range(n - m):\n",
        "      bin_a = \"0\" + bin_a\n",
        "  return bin_a, bin_b"
      ],
      "execution_count": null,
      "outputs": []
    },
    {
      "cell_type": "markdown",
      "metadata": {
        "id": "IuY0vhSCfcQ4"
      },
      "source": [
        "# Oracles"
      ]
    },
    {
      "cell_type": "markdown",
      "metadata": {
        "id": "luMKeEK1DWvB"
      },
      "source": [
        "### Addition"
      ]
    },
    {
      "cell_type": "code",
      "metadata": {
        "id": "OcIjoAllwe4k"
      },
      "source": [
        "# Addition\n",
        "\n",
        "def add(qc, q_i, q_o):\n",
        "  m = len(q_o)\n",
        "  n = len(q_i)\n",
        "  qft(qc, q_o)\n",
        "  for i in range(m):\n",
        "    for j in range(0, m - i):\n",
        "      if j < n:\n",
        "        qc.cu1(2 * np.pi / (2 ** (m - i - j)), q_i[j], q_o[i])\n",
        "  iqft(qc, q_o)"
      ],
      "execution_count": null,
      "outputs": []
    },
    {
      "cell_type": "code",
      "metadata": {
        "id": "wWJ7myl0Tdwd"
      },
      "source": [
        "# Controlled addition\n",
        "\n",
        "def cadd(qc, c, q_i, q_o):\n",
        "  m = len(q_o)\n",
        "  n = len(q_i)\n",
        "  cqft(qc, c, q_o)\n",
        "  for i in range(m):\n",
        "    for j in range(0, m - i):\n",
        "      if j < n:\n",
        "        ccu1(qc, 2 * np.pi / (2 ** (m - i - j)), c, q_i[j], q_o[i])\n",
        "  ciqft(qc, c, q_o)"
      ],
      "execution_count": null,
      "outputs": []
    },
    {
      "cell_type": "markdown",
      "metadata": {
        "id": "xnW5v01HDbCI"
      },
      "source": [
        "### Subtraction"
      ]
    },
    {
      "cell_type": "code",
      "metadata": {
        "id": "zKgJGEUAyDGZ"
      },
      "source": [
        "# Subtraction\n",
        "\n",
        "def sub(qc, q_i, q_o):\n",
        "  m = len(q_o)\n",
        "  n = len(q_i)\n",
        "  qft(qc, q_o)\n",
        "  for i in range(m):\n",
        "    for j in range(0, m - i):\n",
        "      if j < n:\n",
        "        qc.cu1(-2 * np.pi / (2 ** (m - i - j)), q_i[j], q_o[i])\n",
        "  iqft(qc, q_o)"
      ],
      "execution_count": null,
      "outputs": []
    },
    {
      "cell_type": "markdown",
      "metadata": {
        "id": "SlwOIWhKDbR3"
      },
      "source": [
        "### Multiplication"
      ]
    },
    {
      "cell_type": "code",
      "metadata": {
        "id": "S6MGaWp6zO0i"
      },
      "source": [
        "# Multiplication\n",
        "\n",
        "def mult(qc, qx, qy, qa):\n",
        "  qft(qc, qa)\n",
        "  n = len(qx)\n",
        "  m = len(qy)\n",
        "  p = len(qa)\n",
        "  for i in range(n):\n",
        "    for j in range(m):\n",
        "      for k in range(p - j - i):\n",
        "        ccu1(qc, 2 * np.pi / (2 ** (p - k - j - i)), qx[i], qy[j], qa[k])    \n",
        "  iqft(qc, qa)"
      ],
      "execution_count": null,
      "outputs": []
    },
    {
      "cell_type": "markdown",
      "metadata": {
        "id": "KRbPmpyKDb_G"
      },
      "source": [
        "### Division"
      ]
    },
    {
      "cell_type": "code",
      "metadata": {
        "id": "8eVWlQSg0bVU"
      },
      "source": [
        "# Integer division\n",
        "\n",
        "def div(qc, p, d, q):\n",
        "  n = len(q)\n",
        "  m = len(p)\n",
        "  for i in range(n, 0, -1):\n",
        "\n",
        "    # P = 2P\n",
        "    lshift(qc, p)\n",
        "\n",
        "    # P = P - D\n",
        "    sub(qc, d, p)\n",
        "\n",
        "    # if P >= 0: Q[i] = 1\n",
        "    qc.x(p[m - 1])\n",
        "    qc.cx(p[m - 1], q[i - 1])\n",
        "    qc.x(p[m - 1])\n",
        "\n",
        "    # else: P = P + D\n",
        "    qc.x(q[i - 1])\n",
        "    cadd(qc, q[i - 1], d, p)\n",
        "    qc.x(q[i - 1])"
      ],
      "execution_count": null,
      "outputs": []
    },
    {
      "cell_type": "markdown",
      "metadata": {
        "id": "SwTooHa8cJJQ"
      },
      "source": [
        "## Reversibility test"
      ]
    },
    {
      "cell_type": "markdown",
      "metadata": {
        "id": "JpdSPJvNfK-F"
      },
      "source": [
        "### Addition"
      ]
    },
    {
      "cell_type": "code",
      "metadata": {
        "id": "kV-VshhZcU0C"
      },
      "source": [
        "qa = QuantumRegister(2, 'a')\n",
        "qb = QuantumRegister(2, 'b')\n",
        "qc = QuantumCircuit(qa, qb)\n",
        "\n",
        "add(qc, qa, qb)\n",
        "qci = qc.inverse()\n",
        "\n",
        "qc = qc + qci"
      ],
      "execution_count": null,
      "outputs": []
    },
    {
      "cell_type": "code",
      "metadata": {
        "id": "eJUjvFzpdb-y"
      },
      "source": [
        "sv_add = Statevector.from_label('0101')\n",
        "sv_add = sv_add.evolve(qc)\n",
        "plot_state_qsphere(sv_add)"
      ],
      "execution_count": null,
      "outputs": []
    },
    {
      "cell_type": "markdown",
      "metadata": {
        "id": "D-zZacZ6fOLE"
      },
      "source": [
        "### Subtraction"
      ]
    },
    {
      "cell_type": "code",
      "metadata": {
        "id": "sF-Be7B3cUjm"
      },
      "source": [
        "qa = QuantumRegister(2, 'a')\n",
        "qb = QuantumRegister(2, 'b')\n",
        "qc = QuantumCircuit(qa, qb)\n",
        "\n",
        "sub(qc, qa, qb)\n",
        "qci = qc.inverse()\n",
        "\n",
        "qc = qc + qci"
      ],
      "execution_count": null,
      "outputs": []
    },
    {
      "cell_type": "code",
      "metadata": {
        "id": "6f-p2vmDfq6X"
      },
      "source": [
        "sv_sub = Statevector.from_label('1001')\n",
        "sv_sub = sv_sub.evolve(qc)\n",
        "plot_state_qsphere(sv_sub)"
      ],
      "execution_count": null,
      "outputs": []
    },
    {
      "cell_type": "markdown",
      "metadata": {
        "id": "_6-u69A-fQKo"
      },
      "source": [
        "### Multiplication"
      ]
    },
    {
      "cell_type": "code",
      "metadata": {
        "id": "yTAduoqJcUZ6"
      },
      "source": [
        "qa = QuantumRegister(2, 'a')\n",
        "qb = QuantumRegister(2, 'b')\n",
        "qo = QuantumRegister(4, 'o')\n",
        "qc = QuantumCircuit(qa, qb, qo)\n",
        "\n",
        "mult(qc, qa, qb, qo)\n",
        "qci = qc.inverse()\n",
        "\n",
        "qc = qc + qci"
      ],
      "execution_count": null,
      "outputs": []
    },
    {
      "cell_type": "code",
      "metadata": {
        "id": "eDBRk69Ff8lV"
      },
      "source": [
        "sv_mul = Statevector.from_label('00001010')\n",
        "sv_mul = sv_mul.evolve(qc)\n",
        "plot_state_qsphere(sv_mul)"
      ],
      "execution_count": null,
      "outputs": []
    },
    {
      "cell_type": "markdown",
      "metadata": {
        "id": "dHvCQBE-fS-1"
      },
      "source": [
        "### Division"
      ]
    },
    {
      "cell_type": "code",
      "metadata": {
        "id": "3hN-Ay6ZcUSl"
      },
      "source": [
        "qp = QuantumRegister(4, 'p')\n",
        "qd = QuantumRegister(4, 'd')\n",
        "q = QuantumRegister(2, 'q')\n",
        "qc = QuantumCircuit(qp, qd, q)\n",
        "\n",
        "div(qc, qp, qd, q)\n",
        "qci = qc.inverse()\n",
        "\n",
        "qc = qc + qci"
      ],
      "execution_count": null,
      "outputs": []
    },
    {
      "cell_type": "code",
      "metadata": {
        "id": "qQFtL2ylgp-m"
      },
      "source": [
        "sv_div = Statevector.from_label('0000100001')\n",
        "sv_div = sv_div.evolve(qc)\n",
        "plot_state_qsphere(sv_div)"
      ],
      "execution_count": null,
      "outputs": []
    },
    {
      "cell_type": "markdown",
      "metadata": {
        "id": "WsXyDJtUmMU5"
      },
      "source": [
        "# Workspace"
      ]
    },
    {
      "cell_type": "markdown",
      "metadata": {
        "id": "I6K4vnY9_SNt"
      },
      "source": [
        "## Operators"
      ]
    },
    {
      "cell_type": "markdown",
      "metadata": {
        "id": "FmAKliOZfR6m"
      },
      "source": [
        "Wrapping up the operations for user interaction"
      ]
    },
    {
      "cell_type": "markdown",
      "metadata": {
        "id": "f57YfHCJS-rO"
      },
      "source": [
        "### Addition"
      ]
    },
    {
      "cell_type": "code",
      "metadata": {
        "id": "jOyFoUEZ_XsD"
      },
      "source": [
        "def add_num(a, b):\n",
        "  bin_a = bin(a)\n",
        "  bin_b = bin(b)\n",
        "  m = len(bin_a)\n",
        "  n = len(bin_b)\n",
        "\n",
        "  qa = QuantumRegister(m, \"input a\")\n",
        "  qb = QuantumRegister(n, \"input b\")\n",
        "  c = ClassicalRegister(n, \"output\")\n",
        "  qc = QuantumCircuit(qa, qb, c)\n",
        "\n",
        "  # Creating the initial states\n",
        "  for i in range(m):\n",
        "    if bin_a[m - i - 1] == '1':\n",
        "      qc.x(qa[i])\n",
        "  for i in range(n):\n",
        "    if bin_b[n - i - 1] == '1':\n",
        "      qc.x(qb[i])\n",
        "  \n",
        "  # Addition |a>|b> -> |a>|a+b>\n",
        "  add(qc, qa, qb)\n",
        "\n",
        "  # Measurement\n",
        "  qc.measure(qb, c)\n",
        "\n",
        "  backend = Aer.get_backend('qasm_simulator')\n",
        "  counts= execute(qc,backend, shots=1024).result().get_counts(qc)\n",
        "  ans = max(counts, key = counts.get)\n",
        "  return dec(ans)"
      ],
      "execution_count": null,
      "outputs": []
    },
    {
      "cell_type": "markdown",
      "metadata": {
        "id": "VXaSRbPHTHGF"
      },
      "source": [
        "### Subtraction"
      ]
    },
    {
      "cell_type": "code",
      "metadata": {
        "id": "UkbUN8m_DBV_"
      },
      "source": [
        "def sub_num(a, b):\n",
        "  bin_a = bin(a)\n",
        "  bin_b = bin(b)\n",
        "  m = len(bin_a)\n",
        "  n = len(bin_b)\n",
        "\n",
        "  qa = QuantumRegister(m, \"input a\")\n",
        "  qb = QuantumRegister(n, \"input b\")\n",
        "  c = ClassicalRegister(n, \"output\")\n",
        "  qc = QuantumCircuit(qa, qb, c)\n",
        "\n",
        "  # Creating the initial states\n",
        "  for i in range(m):\n",
        "    if bin_a[m - i - 1] == '1':\n",
        "      qc.x(qa[i])\n",
        "  for i in range(n):\n",
        "    if bin_b[n - i - 1] == '1':\n",
        "      qc.x(qb[i])\n",
        "  \n",
        "  # Subtraction |a>|b> -> |a>|b-a>\n",
        "  sub(qc, qa, qb)\n",
        "\n",
        "  # Measurement\n",
        "  qc.measure(qb, c)\n",
        "\n",
        "  backend = Aer.get_backend('qasm_simulator')\n",
        "  counts= execute(qc,backend, shots=1024).result().get_counts(qc)\n",
        "  ans = max(counts, key = counts.get)\n",
        "  return dec(ans)"
      ],
      "execution_count": null,
      "outputs": []
    },
    {
      "cell_type": "markdown",
      "metadata": {
        "id": "a3CpP3fTTKuj"
      },
      "source": [
        "### Multiplication"
      ]
    },
    {
      "cell_type": "code",
      "metadata": {
        "id": "JHauTQrXDgWm"
      },
      "source": [
        "def mul_num(a, b):\n",
        "  bin_a = bin(a)\n",
        "  bin_b = bin(b)\n",
        "  m = len(bin_a)\n",
        "  n = len(bin_b)\n",
        "  p = int(np.floor(np.log2(1 + (2 ** n - 1) * (2 ** m - 1))))\n",
        "\n",
        "  qa = QuantumRegister(m, \"input a\")\n",
        "  qb = QuantumRegister(n, \"input b\")\n",
        "  qo = QuantumRegister(p, \"q output\")\n",
        "  c = ClassicalRegister(p, \"c output\")\n",
        "  qc = QuantumCircuit(qa, qb, qo, c)\n",
        "\n",
        "  # Creating the initial states\n",
        "  for i in range(m):\n",
        "    if bin_a[m - i - 1] == '1':\n",
        "      qc.x(qa[i])\n",
        "  for i in range(n):\n",
        "    if bin_b[n - i - 1] == '1':\n",
        "      qc.x(qb[i])\n",
        "  \n",
        "  # Multiplication |a>|b>|0> -> |a>|b>|a*b>\n",
        "  mult(qc, qa, qb, qo)\n",
        "\n",
        "  # Measurement\n",
        "  qc.measure(qo, c)\n",
        "\n",
        "  backend = Aer.get_backend('qasm_simulator')\n",
        "  counts= execute(qc,backend, shots=1024).result().get_counts(qc)\n",
        "  ans = max(counts, key = counts.get)\n",
        "  return dec(ans)"
      ],
      "execution_count": null,
      "outputs": []
    },
    {
      "cell_type": "markdown",
      "metadata": {
        "id": "cWJIki4RTNkq"
      },
      "source": [
        "### Division"
      ]
    },
    {
      "cell_type": "code",
      "metadata": {
        "id": "c4eWkcIULosB"
      },
      "source": [
        "def div_num(a, b):\n",
        "  bin_a = bin(a)\n",
        "  bin_b = bin(b)\n",
        "  bin_a, bin_b = equalizer(bin_a, bin_b)\n",
        "  n = len(bin_a)\n",
        "\n",
        "  qa = QuantumRegister(2 * n, \"numerator\")\n",
        "  qb = QuantumRegister(2 * n, \"denominator\")\n",
        "  q = QuantumRegister(n, \"quotient\")\n",
        "  cq = ClassicalRegister(n, \"cq\")\n",
        "  cr = ClassicalRegister(n, \"cr\")\n",
        "  qc = QuantumCircuit(qa, qb, q, cq, cr)\n",
        "\n",
        "  # Creating the intitial states\n",
        "  for i in range(n):\n",
        "    if bin_a[n - i - 1] == '1':\n",
        "      qc.x(qa[i])\n",
        "\n",
        "  for i in range(n):\n",
        "    if bin_b[n - i - 1] == '1':\n",
        "      qc.x(qb[n + i])\n",
        "  \n",
        "  # Division |a>|b>|0> -> |r>|b>|q>\n",
        "  div(qc, qa, qb, q)\n",
        "\n",
        "  # Mesurement\n",
        "  qc.measure(q, cq)\n",
        "  qc.measure(qa[n: 2 * n], cr)\n",
        "\n",
        "  backend = Aer.get_backend('qasm_simulator')\n",
        "  counts= execute(qc,backend, shots=1024).result().get_counts(qc)\n",
        "  ans = max(counts, key = counts.get)\n",
        "  ans_li = ans.split()\n",
        "  re = dec(ans_li[0])\n",
        "  qu = dec(ans_li[1])\n",
        "  return qu, re"
      ],
      "execution_count": null,
      "outputs": []
    },
    {
      "cell_type": "markdown",
      "metadata": {
        "id": "NCGbdIQRfAOP"
      },
      "source": [
        "## Classical validators"
      ]
    },
    {
      "cell_type": "code",
      "metadata": {
        "id": "lLcxmFiffGTs"
      },
      "source": [
        "def add_val(a, b):\n",
        "  n = len(bin(b))\n",
        "  return (a + b) % (2 ** n)"
      ],
      "execution_count": null,
      "outputs": []
    },
    {
      "cell_type": "code",
      "metadata": {
        "id": "h4VKV9BPfV1f"
      },
      "source": [
        "def sub_val(a, b):\n",
        "  n = len(bin(b))\n",
        "  return (b - a) % (2 ** n)"
      ],
      "execution_count": null,
      "outputs": []
    },
    {
      "cell_type": "code",
      "metadata": {
        "id": "S5qqU01BfVuK"
      },
      "source": [
        "def mul_val(a, b):\n",
        "  m = len(bin(a))\n",
        "  n = len(bin(b))\n",
        "  p = int(np.floor(np.log2(1 + (2 ** n - 1) * (2 ** m - 1))))\n",
        "  return (a * b) % (2 ** p)"
      ],
      "execution_count": null,
      "outputs": []
    },
    {
      "cell_type": "code",
      "metadata": {
        "id": "gCF2usc_fVnd"
      },
      "source": [
        "def div_val(a, b):\n",
        "  return a // b, a % b"
      ],
      "execution_count": null,
      "outputs": []
    },
    {
      "cell_type": "markdown",
      "metadata": {
        "id": "_XNSkCTi_C8I"
      },
      "source": [
        "# Qalculator "
      ]
    },
    {
      "cell_type": "code",
      "metadata": {
        "id": "pUkAIERu_Hj0"
      },
      "source": [
        "print(\"-------Qalculator-------\")\n",
        "print()\n",
        "\n",
        "print(\"Operations\")\n",
        "print(\"\\t1. Addition ((b+a)mod(2^|b|))\")\n",
        "print(\"\\t2. Subtraction ((b-a)mod(2^|b|))\")\n",
        "print(\"\\t3. Multiplication ((a*b)mod(floor(log2(1+(|a|-1)(|b|-1)))))\")\n",
        "print(\"\\t4. Division (a//b, a%b)\")\n",
        "print()\n",
        "\n",
        "while True:\n",
        "  choice = input(\"Enter choice (1/2/3/4): \")\n",
        "\n",
        "  if choice in ('1', '2', '3', '4'):\n",
        "    a = int(input(\"\\tEnter a: \"))\n",
        "    b = int(input(\"\\tEnter b: \"))\n",
        "\n",
        "    print()\n",
        "\n",
        "    if choice == '1':\n",
        "      print(\"\\tQalculator: \" + str(a) + \" + \" + str(b) + \" = \" + str(add_num(a, b)))\n",
        "      print(\"\\tCalculator: \" + str(a) + \" + \" + str(b) + \" = \" + str(add_val(a, b)))\n",
        "\n",
        "    elif choice == '2':\n",
        "      print(\"\\tQalculator: \" + str(b) + \" - \" + str(a) + \" = \" + str(sub_num(a, b)))\n",
        "      print(\"\\tCalculator: \" + str(b) + \" - \" + str(a) + \" = \" + str(sub_val(a, b)))\n",
        "\n",
        "    elif choice == '3':\n",
        "      print(\"\\tQalculator: \" + str(a) + \" * \" + str(b) + \" = \" + str(mul_num(a, b)))\n",
        "      print(\"\\tCalculator: \" + str(a) + \" * \" + str(b) + \" = \" + str(mul_val(a, b)))\n",
        "\n",
        "    elif choice == '4':\n",
        "      qu, re = div_num(a, b)\n",
        "      quc, rec = div_val(a, b)\n",
        "      print(\"\\tQalculator: \" + str(a) + \" // \" + str(b) + \" = \" + str(qu) + \", \" + str(a) + \" % \" + str(b) + \" = \" + str(re))\n",
        "      print(\"\\tCalculator: \" + str(a) + \" // \" + str(b) + \" = \" + str(quc) + \", \" + str(a) + \" % \" + str(b) + \" = \" + str(rec))\n",
        "\n",
        "    print()\n",
        "\n",
        "    next = input(\"Next calculation? (yes/no): \")\n",
        "\n",
        "    if next != \"yes\":\n",
        "      break\n",
        "\n",
        "    print()\n",
        "\n",
        "  else:\n",
        "    print(\"Invalid Input\")\n",
        "    print()\n",
        "\n",
        "  print(\"Operations\")\n",
        "  print(\"\\t1. Addition ((b+a)mod(2^|b|))\")\n",
        "  print(\"\\t2. Subtraction ((b-a)mod(2^|b|))\")\n",
        "  print(\"\\t3. Multiplication (a*b)\")\n",
        "  print(\"\\t4. Division (a//b, a%b)\")\n",
        "  print()\n",
        "  \n",
        "print()\n",
        "print(\"-------Qalculator-------\")"
      ],
      "execution_count": null,
      "outputs": []
    },
    {
      "cell_type": "markdown",
      "metadata": {
        "id": "gARkq-PlnBWM"
      },
      "source": [
        "# Workspace (Superposition)"
      ]
    },
    {
      "cell_type": "markdown",
      "metadata": {
        "id": "PWYBpDaERpaG"
      },
      "source": [
        "## Operators (Superposition of inputs)"
      ]
    },
    {
      "cell_type": "markdown",
      "metadata": {
        "id": "sFBuzHaSWYG2"
      },
      "source": [
        "### Addition"
      ]
    },
    {
      "cell_type": "code",
      "metadata": {
        "id": "STnOmv-fRzE4"
      },
      "source": [
        "def add_num_s(inputs_a, inputs_b):\n",
        "  inputs_a = sorted(inputs_a)\n",
        "  inputs_b = sorted(inputs_b)\n",
        "  len_a = len(inputs_a)\n",
        "  len_b = len(inputs_b)\n",
        "  max_a = len(bin(inputs_a[len(inputs_a) - 1]))\n",
        "  max_b = len(bin(inputs_a[len(inputs_a) - 1]))\n",
        "  max_b = int(np.ceil(np.log2((2 ** max_a) + (2 ** max_b) - 2)))\n",
        "\n",
        "  qa = QuantumRegister(max_a, \"a\")\n",
        "  qb = QuantumRegister(max_b, \"b\")\n",
        "  c = ClassicalRegister(max_b, \"o\")\n",
        "  qc = QuantumCircuit(qa, qb, c)\n",
        "\n",
        "  # Initialize the states\n",
        "  li_a = [0] * (2 ** max_a)\n",
        "  li_b = [0] * (2 ** max_b)\n",
        "  for i in inputs_a:\n",
        "    li_a[i] += 1 / len_a\n",
        "  for i in inputs_b:\n",
        "    li_b[i] += 1 / len_b\n",
        "  qc.initialize(np.sqrt(li_a), qa)\n",
        "  qc.initialize(np.sqrt(li_b), qb)\n",
        "\n",
        "  # Addition\n",
        "  add(qc, qa, qb)\n",
        "\n",
        "  # Measurement\n",
        "  qc.measure(qb, c)\n",
        "  backend = Aer.get_backend('qasm_simulator')\n",
        "  counts= execute(qc,backend, shots=1024).result().get_counts(qc)\n",
        "  return counts, max_b"
      ],
      "execution_count": null,
      "outputs": []
    },
    {
      "cell_type": "markdown",
      "metadata": {
        "id": "uy5eCv9iWaGQ"
      },
      "source": [
        "### Subtraction"
      ]
    },
    {
      "cell_type": "code",
      "metadata": {
        "id": "GdTkc0r4WVbY"
      },
      "source": [
        "def sub_num_s(inputs_a, inputs_b):\n",
        "  inputs_a = sorted(inputs_a)\n",
        "  inputs_b = sorted(inputs_b)\n",
        "  len_a = len(inputs_a)\n",
        "  len_b = len(inputs_b)\n",
        "  max_a = len(bin(inputs_a[len(inputs_a) - 1]))\n",
        "  max_b = len(bin(inputs_a[len(inputs_a) - 1]))\n",
        "\n",
        "  qa = QuantumRegister(max_a, \"a\")\n",
        "  qb = QuantumRegister(max_b, \"b\")\n",
        "  c = ClassicalRegister(max_b, \"o\")\n",
        "  qc = QuantumCircuit(qa, qb, c)\n",
        "\n",
        "  # Initialize the states\n",
        "  li_a = [0] * (2 ** max_a)\n",
        "  li_b = [0] * (2 ** max_b)\n",
        "  for i in inputs_a:\n",
        "    li_a[i] += 1 / len_a\n",
        "  for i in inputs_b:\n",
        "    li_b[i] += 1 / len_b\n",
        "  qc.initialize(np.sqrt(li_a), qa)\n",
        "  qc.initialize(np.sqrt(li_b), qb)\n",
        "\n",
        "  # Subtraction\n",
        "  sub(qc, qa, qb)\n",
        "\n",
        "  # Measurement\n",
        "  qc.measure(qb, c)\n",
        "  backend = Aer.get_backend('qasm_simulator')\n",
        "  counts= execute(qc,backend, shots=1024).result().get_counts(qc)\n",
        "  return counts, max_b"
      ],
      "execution_count": null,
      "outputs": []
    },
    {
      "cell_type": "markdown",
      "metadata": {
        "id": "oFeqvnK3Xmh_"
      },
      "source": [
        "### Multiplication"
      ]
    },
    {
      "cell_type": "code",
      "metadata": {
        "id": "UA9La0XtWVRI"
      },
      "source": [
        "def mul_num_s(inputs_a, inputs_b):\n",
        "  inputs_a = sorted(inputs_a)\n",
        "  inputs_b = sorted(inputs_b)\n",
        "  len_a = len(inputs_a)\n",
        "  len_b = len(inputs_b)\n",
        "  max_a = len(bin(inputs_a[len(inputs_a) - 1]))\n",
        "  max_b = len(bin(inputs_a[len(inputs_a) - 1]))\n",
        "  len_o = int(np.ceil(np.log2(((2 ** max_a) - 1) * ((2 ** max_b) - 1))))\n",
        "\n",
        "  qa = QuantumRegister(max_a, \"a\")\n",
        "  qb = QuantumRegister(max_b, \"b\")\n",
        "  qo = QuantumRegister(len_o, \"o_q\")\n",
        "  c = ClassicalRegister(len_o, \"o_c\")\n",
        "  qc = QuantumCircuit(qa, qb, qo, c)\n",
        "\n",
        "  # Initialize the states\n",
        "  li_a = [0] * (2 ** max_a)\n",
        "  li_b = [0] * (2 ** max_b)\n",
        "  for i in inputs_a:\n",
        "    li_a[i] += 1 / len_a\n",
        "  for i in inputs_b:\n",
        "    li_b[i] += 1 / len_b\n",
        "  qc.initialize(np.sqrt(li_a), qa)\n",
        "  qc.initialize(np.sqrt(li_b), qb)\n",
        "\n",
        "  # Multiplication\n",
        "  mult(qc, qa, qb, qo)\n",
        "\n",
        "  # Measurement\n",
        "  qc.measure(qo, c)\n",
        "  backend = Aer.get_backend('qasm_simulator')\n",
        "  counts= execute(qc,backend, shots=1024).result().get_counts(qc)\n",
        "  return counts, len_o"
      ],
      "execution_count": null,
      "outputs": []
    },
    {
      "cell_type": "markdown",
      "metadata": {
        "id": "1AMxpMJHYrJt"
      },
      "source": [
        "### Division"
      ]
    },
    {
      "cell_type": "code",
      "metadata": {
        "id": "Llax4OlWWVJJ"
      },
      "source": [
        "def div_num_s(inputs_a, inputs_b):\n",
        "  inputs_a = sorted(inputs_a)\n",
        "  inputs_b = sorted(inputs_b)\n",
        "  len_a = len(inputs_a)\n",
        "  len_b = len(inputs_b)\n",
        "  max_a = len(bin(inputs_a[len(inputs_a) - 1]))\n",
        "  max_b = len(bin(inputs_a[len(inputs_a) - 1]))\n",
        "  max_len = max(max_a, max_b)\n",
        "\n",
        "  qa = QuantumRegister(2 * max_len, \"a\")\n",
        "  qb = QuantumRegister(2 * max_len, \"b\")\n",
        "  q = QuantumRegister(max_len, \"q\")\n",
        "  cq = ClassicalRegister(max_len, \"o_q\")\n",
        "  cr = ClassicalRegister(max_len, \"o_r\")\n",
        "  qc = QuantumCircuit(qa, qb, q, cq, cr)\n",
        "\n",
        "  # Initialize the states\n",
        "  li_a = [0] * (2 ** (2 * max_len))\n",
        "  li_b = [0] * (2 ** (2 * max_len))\n",
        "  for i in inputs_a:\n",
        "    li_a[i] += 1 / len_a\n",
        "  for i in inputs_b:\n",
        "    li_b[(2 ** max_len) * i] += 1 / len_b\n",
        "  qc.initialize(np.sqrt(li_a), qa)\n",
        "  qc.initialize(np.sqrt(li_b), qb)\n",
        "\n",
        "  # Division\n",
        "  div(qc, qa, qb, q)\n",
        "\n",
        "  # Measurement\n",
        "  qc.measure(q, cq)\n",
        "  qc.measure(qa[max_len: 2 * max_len], cr)\n",
        "  backend = Aer.get_backend('qasm_simulator')\n",
        "  counts= execute(qc,backend, shots=1024).result().get_counts(qc)\n",
        "  return counts"
      ],
      "execution_count": null,
      "outputs": []
    },
    {
      "cell_type": "markdown",
      "metadata": {
        "id": "pTsfal9iWOaM"
      },
      "source": [
        "## Classical validators (Superposition of inputs)"
      ]
    },
    {
      "cell_type": "code",
      "metadata": {
        "id": "2qFHyV7bWcCU"
      },
      "source": [
        "def add_val_s(inputs_a, inputs_b, n):\n",
        "  ans_li = []\n",
        "  for a in inputs_a:\n",
        "    for b in inputs_b:\n",
        "      ans_li.append((a + b) % (2 ** n))\n",
        "  counts = dict()\n",
        "  for i in ans_li:\n",
        "    counts[i] = counts.get(i, 0) + 1\n",
        "  outcomes = list(counts.keys())\n",
        "  freq = list(counts.values())\n",
        "  # plt.bar(outcomes, freq)\n",
        "  plt.bar(range(len(outcomes)), freq)\n",
        "  plt.xticks(range(len(outcomes)), outcomes)\n",
        "  plt.show()"
      ],
      "execution_count": null,
      "outputs": []
    },
    {
      "cell_type": "code",
      "metadata": {
        "id": "bAEqJ271bBqQ"
      },
      "source": [
        "def sub_val_s(inputs_a, inputs_b, n):\n",
        "  ans_li = []\n",
        "  for a in inputs_a:\n",
        "    for b in inputs_b:\n",
        "      ans_li.append((b - a) % (2 ** n))\n",
        "  counts = dict()\n",
        "  for i in ans_li:\n",
        "    counts[i] = counts.get(i, 0) + 1\n",
        "  outcomes = list(counts.keys())\n",
        "  freq = list(counts.values())\n",
        "  # plt.bar(outcomes, freq)\n",
        "  plt.bar(range(len(outcomes)), freq)\n",
        "  plt.xticks(range(len(outcomes)), outcomes)\n",
        "  plt.show()"
      ],
      "execution_count": null,
      "outputs": []
    },
    {
      "cell_type": "code",
      "metadata": {
        "id": "GJu72YesbJQx"
      },
      "source": [
        "def mul_val_s(inputs_a, inputs_b, n):\n",
        "  ans_li = []\n",
        "  for a in inputs_a:\n",
        "    for b in inputs_b:\n",
        "      ans_li.append((a * b) % (2 ** n))\n",
        "  counts = dict()\n",
        "  for i in ans_li:\n",
        "    counts[i] = counts.get(i, 0) + 1\n",
        "  outcomes = list(counts.keys())\n",
        "  freq = list(counts.values())\n",
        "  # plt.bar(outcomes, freq)\n",
        "  plt.bar(range(len(outcomes)), freq)\n",
        "  plt.xticks(range(len(outcomes)), outcomes)\n",
        "  plt.show()"
      ],
      "execution_count": null,
      "outputs": []
    },
    {
      "cell_type": "code",
      "metadata": {
        "id": "tWlxC4b0bOG9"
      },
      "source": [
        "def div_val_s(inputs_a, inputs_b):\n",
        "  ans_li = []\n",
        "  for a in inputs_a:\n",
        "    for b in inputs_b:\n",
        "      ans_li.append(str(a % b) + \" \" + str(a // b))\n",
        "  counts = dict()\n",
        "  for i in ans_li:\n",
        "    counts[i] = counts.get(i, 0) + 1\n",
        "  outcomes = list(counts.keys())\n",
        "  freq = list(counts.values())\n",
        "  # plt.bar(outcomes, freq)\n",
        "  plt.bar(range(len(outcomes)), freq)\n",
        "  plt.xticks(range(len(outcomes)), outcomes)\n",
        "  plt.show()"
      ],
      "execution_count": null,
      "outputs": []
    },
    {
      "cell_type": "markdown",
      "metadata": {
        "id": "nr9-XkTmmAJH"
      },
      "source": [
        "# SQalculator"
      ]
    },
    {
      "cell_type": "code",
      "metadata": {
        "id": "fugB9wAjmF1y"
      },
      "source": [
        "print(\"-------SQalculator-------\")\n",
        "print()\n",
        "\n",
        "print(\"Operations\")\n",
        "print(\"\\t1. Addition ((b+a)mod(2^|b|))\")\n",
        "print(\"\\t2. Subtraction ((b-a)mod(2^|b|))\")\n",
        "print(\"\\t3. Multiplication ((a*b)mod(floor(log2(1+(|a|-1)(|b|-1)))))\")\n",
        "print(\"\\t4. Division (a//b, a%b)\")\n",
        "print()\n",
        "\n",
        "while True:\n",
        "  choice = input(\"Enter choice (1/2/3/4): \")\n",
        "\n",
        "  if choice in ('1', '2', '3', '4'):\n",
        "    inputs_a_str = input(\"\\tEnter a's (Separate inputs by a single space): \")\n",
        "    inputs_b_str = input(\"\\tEnter b's (Separate inputs by a single space): \")\n",
        "\n",
        "    # Process the input\n",
        "    a_li = inputs_a_str.split(\" \")\n",
        "    b_li = inputs_b_str.split(\" \")\n",
        "    inputs_a = []\n",
        "    inputs_b = []\n",
        "    for i in a_li:\n",
        "      inputs_a.append(int(i))\n",
        "    for i in b_li:\n",
        "      inputs_b.append(int(i))\n",
        "    inputs_a = sorted(inputs_a)\n",
        "    inputs_b = sorted(inputs_b)\n",
        "\n",
        "    print()\n",
        "\n",
        "    if choice == '1':\n",
        "      c, n = add_num_s(inputs_a, inputs_b)\n",
        "      c = dict(c)\n",
        "      print(\"Quantum result\")\n",
        "      print()\n",
        "      # plot_histogram(c)\n",
        "      plt.bar(c.keys(), c.values())\n",
        "      plt.show()\n",
        "      print(\"Classical result\")\n",
        "      print()\n",
        "      add_val_s(inputs_a, inputs_b, n)\n",
        "\n",
        "    elif choice == '2':\n",
        "      c, n = sub_num_s(inputs_a, inputs_b)\n",
        "      c = dict(c)\n",
        "      print(\"Quantum result\")\n",
        "      print()\n",
        "      plt.bar(c.keys(), c.values())\n",
        "      plt.show()\n",
        "      print(\"Classical result\")\n",
        "      print()\n",
        "      sub_val_s(inputs_a, inputs_b, n)\n",
        "\n",
        "    elif choice == '3':\n",
        "      c, n = mul_num_s(inputs_a, inputs_b)\n",
        "      c = dict(c)\n",
        "      print(\"Quantum result\")\n",
        "      print()\n",
        "      plt.bar(c.keys(), c.values())\n",
        "      plt.show()\n",
        "      print(\"Classical result\")\n",
        "      print()\n",
        "      mul_val_s(inputs_a, inputs_b, n)\n",
        "\n",
        "    elif choice == '4':\n",
        "      c = div_num_s(inputs_a, inputs_b)\n",
        "      c = dict(c)\n",
        "      print(\"Quantum result\")\n",
        "      print()\n",
        "      plt.bar(c.keys(), c.values())\n",
        "      plt.show()\n",
        "      print(\"Classical result\")\n",
        "      print()\n",
        "      div_val_s(inputs_a, inputs_b)\n",
        "\n",
        "    print()\n",
        "\n",
        "    next = input(\"Next calculation? (yes/no): \")\n",
        "\n",
        "    if next != \"yes\":\n",
        "      break\n",
        "\n",
        "    print()\n",
        "\n",
        "  else:\n",
        "    print(\"Invalid Input\")\n",
        "    print()\n",
        "\n",
        "  print(\"Operations\")\n",
        "  print(\"\\t1. Addition ((b+a)mod(2^|b|))\")\n",
        "  print(\"\\t2. Subtraction ((b-a)mod(2^|b|))\")\n",
        "  print(\"\\t3. Multiplication (a*b)\")\n",
        "  print(\"\\t4. Division (a//b, a%b)\")\n",
        "  print()\n",
        "  \n",
        "print()\n",
        "print(\"-------SQalculator-------\")"
      ],
      "execution_count": null,
      "outputs": []
    }
  ]
}